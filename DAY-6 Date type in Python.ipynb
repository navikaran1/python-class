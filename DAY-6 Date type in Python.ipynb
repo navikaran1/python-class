{
 "cells": [
  {
   "cell_type": "markdown",
   "id": "f46c71b2",
   "metadata": {},
   "source": [
    "# Date type in Python"
   ]
  },
  {
   "cell_type": "code",
   "execution_count": 2,
   "id": "0d241e54",
   "metadata": {},
   "outputs": [
    {
     "data": {
      "text/plain": [
       "('A', 'N')"
      ]
     },
     "execution_count": 2,
     "metadata": {},
     "output_type": "execute_result"
    }
   ],
   "source": [
    "data = \"NAVIKARAN\"\n",
    "data[1],data[-1]"
   ]
  },
  {
   "cell_type": "code",
   "execution_count": 3,
   "id": "d28fb2be",
   "metadata": {},
   "outputs": [
    {
     "data": {
      "text/plain": [
       "'I'"
      ]
     },
     "execution_count": 3,
     "metadata": {},
     "output_type": "execute_result"
    }
   ],
   "source": [
    "data[1*3]"
   ]
  },
  {
   "cell_type": "markdown",
   "id": "9e2a1547",
   "metadata": {},
   "source": [
    "# For Loop"
   ]
  },
  {
   "cell_type": "code",
   "execution_count": 34,
   "id": "3674105b",
   "metadata": {},
   "outputs": [
    {
     "name": "stdout",
     "output_type": "stream",
     "text": [
      "N A V I K A R A N "
     ]
    }
   ],
   "source": [
    "data = \"NAVIKARAN\"\n",
    "for i in data:\n",
    "    print(i, end = \" \")"
   ]
  },
  {
   "cell_type": "code",
   "execution_count": 35,
   "id": "65b1957e",
   "metadata": {},
   "outputs": [
    {
     "name": "stdout",
     "output_type": "stream",
     "text": [
      "N\n",
      "A\n",
      "V\n",
      "I\n",
      "K\n",
      "A\n",
      "R\n",
      "A\n",
      "N\n"
     ]
    }
   ],
   "source": [
    "data = \"NAVIKARAN\"\n",
    "for i in data:\n",
    "    print(i)"
   ]
  },
  {
   "cell_type": "code",
   "execution_count": 36,
   "id": "46e6f4a1",
   "metadata": {},
   "outputs": [
    {
     "name": "stdout",
     "output_type": "stream",
     "text": [
      "ok\n"
     ]
    }
   ],
   "source": [
    "data = \"NAVIKARAN\"\n",
    "\n",
    "for i in data:\n",
    "    if i==\"K\":\n",
    "        print(\"ok\")\n"
   ]
  },
  {
   "cell_type": "markdown",
   "id": "ff604fd5",
   "metadata": {},
   "source": [
    "# Slicing "
   ]
  },
  {
   "cell_type": "code",
   "execution_count": 37,
   "id": "257b5dc5",
   "metadata": {},
   "outputs": [
    {
     "name": "stdout",
     "output_type": "stream",
     "text": [
      "NAV\n"
     ]
    }
   ],
   "source": [
    "\n",
    "data = \"NAVIKARAN\"\n",
    "\n",
    "print(data[0:3])"
   ]
  },
  {
   "cell_type": "code",
   "execution_count": 38,
   "id": "dfbaf426",
   "metadata": {},
   "outputs": [
    {
     "name": "stdout",
     "output_type": "stream",
     "text": [
      "NAVIKAR\n"
     ]
    }
   ],
   "source": [
    "data = \"NAVIKARAN\"\n",
    "\n",
    "print(data[0:7:1])"
   ]
  },
  {
   "cell_type": "code",
   "execution_count": 39,
   "id": "0842e5d3",
   "metadata": {},
   "outputs": [
    {
     "name": "stdout",
     "output_type": "stream",
     "text": [
      "NAVIKARAN\n"
     ]
    }
   ],
   "source": [
    "data = \"NAVIKARAN\"\n",
    "\n",
    "print(data[:])"
   ]
  },
  {
   "cell_type": "code",
   "execution_count": 40,
   "id": "9a6115f0",
   "metadata": {},
   "outputs": [
    {
     "name": "stdout",
     "output_type": "stream",
     "text": [
      "NARAKIVAN\n"
     ]
    }
   ],
   "source": [
    "data = \"NAVIKARAN\"\n",
    "\n",
    "print(data[::-1])"
   ]
  },
  {
   "cell_type": "code",
   "execution_count": 41,
   "id": "c9755707",
   "metadata": {},
   "outputs": [
    {
     "name": "stdout",
     "output_type": "stream",
     "text": [
      "NAVIK\n"
     ]
    }
   ],
   "source": [
    "data = \"NAVIKARAN\"\n",
    "print(data[:5])"
   ]
  },
  {
   "cell_type": "code",
   "execution_count": 42,
   "id": "65ebeb31",
   "metadata": {},
   "outputs": [
    {
     "name": "stdout",
     "output_type": "stream",
     "text": [
      "NAVIK\n"
     ]
    }
   ],
   "source": [
    "data = \"NAVIKARAN\"\n",
    "\n",
    "print(data[:5])"
   ]
  },
  {
   "cell_type": "code",
   "execution_count": 43,
   "id": "5c482543",
   "metadata": {},
   "outputs": [
    {
     "name": "stdout",
     "output_type": "stream",
     "text": [
      "ARAN\n"
     ]
    }
   ],
   "source": [
    "data = \"NAVIKARAN\"\n",
    "\n",
    "print(data[5:])"
   ]
  },
  {
   "cell_type": "markdown",
   "id": "587cd4de",
   "metadata": {},
   "source": [
    "# String Methods"
   ]
  },
  {
   "cell_type": "code",
   "execution_count": 44,
   "id": "a9336402",
   "metadata": {},
   "outputs": [
    {
     "name": "stdout",
     "output_type": "stream",
     "text": [
      "Name:navi,Age:26\n"
     ]
    }
   ],
   "source": [
    "name=\"navi\"\n",
    "age=26\n",
    "print(\"Name:{0},Age:{1}\".format(name,age))"
   ]
  },
  {
   "cell_type": "code",
   "execution_count": 45,
   "id": "9dd29e9a",
   "metadata": {},
   "outputs": [
    {
     "name": "stdout",
     "output_type": "stream",
     "text": [
      "Name:navi,Age:26\n"
     ]
    }
   ],
   "source": [
    "name=\"navi\"\n",
    "age=26\n",
    "print(\"Name:{n},Age:{a}\".format(n=name,a=age))"
   ]
  },
  {
   "cell_type": "code",
   "execution_count": 4,
   "id": "16b3b14e",
   "metadata": {},
   "outputs": [
    {
     "name": "stdout",
     "output_type": "stream",
     "text": [
      "Name:navi,Age:26\n"
     ]
    }
   ],
   "source": [
    "name=\"navi\"\n",
    "age=26\n",
    "print(\"Name:{},Age:{}\".format(name,age))"
   ]
  },
  {
   "cell_type": "code",
   "execution_count": 5,
   "id": "b80d11a7",
   "metadata": {},
   "outputs": [
    {
     "data": {
      "text/plain": [
       "16"
      ]
     },
     "execution_count": 5,
     "metadata": {},
     "output_type": "execute_result"
    }
   ],
   "source": [
    "str1=\"Navikaran is a boy\"\n",
    "str1.index(\"o\")"
   ]
  },
  {
   "cell_type": "code",
   "execution_count": 48,
   "id": "b87460f8",
   "metadata": {},
   "outputs": [
    {
     "data": {
      "text/plain": [
       "4"
      ]
     },
     "execution_count": 48,
     "metadata": {},
     "output_type": "execute_result"
    }
   ],
   "source": [
    "str1=\"Navikaran is a boy\"\n",
    "str1.count(\"a\")"
   ]
  },
  {
   "cell_type": "code",
   "execution_count": 49,
   "id": "12f1c554",
   "metadata": {},
   "outputs": [
    {
     "data": {
      "text/plain": [
       "1"
      ]
     },
     "execution_count": 49,
     "metadata": {},
     "output_type": "execute_result"
    }
   ],
   "source": [
    "str1=\"Navikaran is a boy\"\n",
    "str1.find(\"a\")"
   ]
  },
  {
   "cell_type": "code",
   "execution_count": null,
   "id": "193047d6",
   "metadata": {},
   "outputs": [],
   "source": []
  },
  {
   "cell_type": "code",
   "execution_count": null,
   "id": "71126755",
   "metadata": {},
   "outputs": [],
   "source": []
  },
  {
   "cell_type": "code",
   "execution_count": null,
   "id": "f4a5e7dc",
   "metadata": {},
   "outputs": [],
   "source": []
  },
  {
   "cell_type": "code",
   "execution_count": null,
   "id": "11eeaf20",
   "metadata": {},
   "outputs": [],
   "source": []
  },
  {
   "cell_type": "code",
   "execution_count": null,
   "id": "0ef928ad",
   "metadata": {},
   "outputs": [],
   "source": []
  }
 ],
 "metadata": {
  "kernelspec": {
   "display_name": "Python 3 (ipykernel)",
   "language": "python",
   "name": "python3"
  },
  "language_info": {
   "codemirror_mode": {
    "name": "ipython",
    "version": 3
   },
   "file_extension": ".py",
   "mimetype": "text/x-python",
   "name": "python",
   "nbconvert_exporter": "python",
   "pygments_lexer": "ipython3",
   "version": "3.9.7"
  }
 },
 "nbformat": 4,
 "nbformat_minor": 5
}
