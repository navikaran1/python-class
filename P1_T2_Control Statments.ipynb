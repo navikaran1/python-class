{
 "cells": [
  {
   "cell_type": "code",
   "execution_count": null,
   "id": "67626ac0",
   "metadata": {},
   "outputs": [],
   "source": [
    "#Conditonl Statmnet"
   ]
  },
  {
   "cell_type": "code",
   "execution_count": 2,
   "id": "a7721785",
   "metadata": {},
   "outputs": [
    {
     "name": "stdout",
     "output_type": "stream",
     "text": [
      "ok\n"
     ]
    }
   ],
   "source": [
    "a=5\n",
    "if (a<10):\n",
    "    print(\"ok\")"
   ]
  },
  {
   "cell_type": "code",
   "execution_count": 2,
   "id": "7218162d",
   "metadata": {},
   "outputs": [
    {
     "name": "stdout",
     "output_type": "stream",
     "text": [
      "ok\n",
      "this output is part of if\n",
      "this output is part of prog\n"
     ]
    }
   ],
   "source": [
    "# if else\n",
    "x = 5\n",
    "if x<10:\n",
    "    print(\"ok\")\n",
    "    print(\"this output is part of if\")\n",
    "else:\n",
    "    print(\"Conditon Flase\")\n",
    "    print(\"this output is part of else\")\n",
    "print(\"this output is part of prog\")"
   ]
  },
  {
   "cell_type": "code",
   "execution_count": 3,
   "id": "d562f8cd",
   "metadata": {},
   "outputs": [
    {
     "ename": "SyntaxError",
     "evalue": "EOL while scanning string literal (Temp/ipykernel_14164/2657657957.py, line 10)",
     "output_type": "error",
     "traceback": [
      "\u001b[1;36m  File \u001b[1;32m\"C:\\Users\\HP\\AppData\\Local\\Temp/ipykernel_14164/2657657957.py\"\u001b[1;36m, line \u001b[1;32m10\u001b[0m\n\u001b[1;33m    print(\"a and b are same, part of 1st else\"\")\u001b[0m\n\u001b[1;37m                                                ^\u001b[0m\n\u001b[1;31mSyntaxError\u001b[0m\u001b[1;31m:\u001b[0m EOL while scanning string literal\n"
     ]
    }
   ],
   "source": [
    "# if -elif\n",
    "\n",
    "a = 10\n",
    "b = 15\n",
    "\n",
    "if a>15:\n",
    "    print(\"a is greater, part of 1st if\")\n",
    "else:\n",
    "    if a==b:\n",
    "        print(\"a and b are same, part of 1st else\"\")\n",
    "    else:\n",
    "        print(\"b is bigger, part of 2st if\")"
   ]
  },
  {
   "cell_type": "code",
   "execution_count": 13,
   "id": "d6e06b2c",
   "metadata": {},
   "outputs": [
    {
     "name": "stdout",
     "output_type": "stream",
     "text": [
      "y Big\n"
     ]
    }
   ],
   "source": [
    "a = 10\n",
    "b = 15\n",
    "\n",
    "if a>15:\n",
    "    print(\"a is greater, part of 1st if\")\n",
    "elif a==b:\n",
    "    print(\"both are same\")\n",
    "else:\n",
    "    print(\"y Big\")   "
   ]
  },
  {
   "cell_type": "code",
   "execution_count": null,
   "id": "1b28fe31",
   "metadata": {},
   "outputs": [],
   "source": []
  },
  {
   "cell_type": "code",
   "execution_count": null,
   "id": "94e3b5bf",
   "metadata": {},
   "outputs": [],
   "source": []
  }
 ],
 "metadata": {
  "kernelspec": {
   "display_name": "Python 3 (ipykernel)",
   "language": "python",
   "name": "python3"
  },
  "language_info": {
   "codemirror_mode": {
    "name": "ipython",
    "version": 3
   },
   "file_extension": ".py",
   "mimetype": "text/x-python",
   "name": "python",
   "nbconvert_exporter": "python",
   "pygments_lexer": "ipython3",
   "version": "3.9.7"
  }
 },
 "nbformat": 4,
 "nbformat_minor": 5
}
