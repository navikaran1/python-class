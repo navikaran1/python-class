{
 "cells": [
  {
   "cell_type": "code",
   "execution_count": 2,
   "id": "c84b2842",
   "metadata": {
    "scrolled": true
   },
   "outputs": [
    {
     "name": "stdout",
     "output_type": "stream",
     "text": [
      "0\n",
      "0 1\n",
      "1 2\n",
      "2 3\n",
      "3 4\n",
      "4 5\n",
      "5 6\n",
      "6 7\n",
      "7 8\n",
      "8 Loop end\n"
     ]
    }
   ],
   "source": [
    "i=0\n",
    "while i<9:\n",
    "    print(i)\n",
    "    #print(i,end=\" \") #Change the line \n",
    "    i=i+1\n",
    "    \n",
    "    \n",
    "print(\"Loop end\")"
   ]
  },
  {
   "cell_type": "code",
   "execution_count": null,
   "id": "f7c47810",
   "metadata": {},
   "outputs": [],
   "source": []
  },
  {
   "cell_type": "code",
   "execution_count": 5,
   "id": "cddbb226",
   "metadata": {},
   "outputs": [
    {
     "name": "stdout",
     "output_type": "stream",
     "text": [
      "1 2 3 4 5 6 7 8 9 10 11 12 13 14 15 16 17 18 19 20 21 22 23 24 25 26 27 28 29 30 31 32 33 34 35 36 37 38 39 40 41 42 43 44 45 46 47 48 49 50 51 52 53 54 55 56 57 58 59 60 61 62 63 64 65 66 67 68 69 70 71 72 73 74 75 76 77 78 79 80 81 82 83 84 85 86 87 88 89 90 91 92 93 94 95 96 97 98 99 100 Loop end\n"
     ]
    }
   ],
   "source": [
    "### Pro : To Print All no From to 100###\n",
    "\n",
    "i=1\n",
    "while i<101:\n",
    "    #print(i)\n",
    "    print(i,end=\" \") #Change the line \n",
    "    i=i+1\n",
    "    \n",
    "    \n",
    "print(\"Loop end\")"
   ]
  },
  {
   "cell_type": "markdown",
   "id": "9728e770",
   "metadata": {},
   "source": [
    "### For Loop###"
   ]
  },
  {
   "cell_type": "code",
   "execution_count": 15,
   "id": "fa91a3f4",
   "metadata": {},
   "outputs": [
    {
     "name": "stdout",
     "output_type": "stream",
     "text": [
      "0 1 2 3 4 5 6 7 8 9 10 11 12 13 14 15 16 17 18 19 20 21 22 23 24 25 26 27 28 29 30 31 32 33 34 35 36 37 38 39 40 41 42 43 44 45 46 47 48 49 50 51 52 53 54 55 56 57 58 59 60 61 62 63 64 65 66 67 68 69 70 71 72 73 74 75 76 77 78 79 80 81 82 83 84 85 86 87 88 89 90 91 92 93 94 95 96 97 98 99 100 "
     ]
    }
   ],
   "source": [
    "for i in range(1,100,1):\n",
    "    print(i, end=\" \")"
   ]
  },
  {
   "cell_type": "code",
   "execution_count": 16,
   "id": "3e2e9300",
   "metadata": {},
   "outputs": [
    {
     "name": "stdout",
     "output_type": "stream",
     "text": [
      "0 1 2 3 4 5 6 7 8 9 10 11 12 13 14 15 16 17 18 19 20 21 22 23 24 25 26 27 28 29 30 31 32 33 34 35 36 37 38 39 40 41 42 43 44 45 46 47 48 49 50 51 52 53 54 55 56 57 58 59 60 61 62 63 64 65 66 67 68 69 70 71 72 73 74 75 76 77 78 79 80 81 82 83 84 85 86 87 88 89 90 91 92 93 94 95 96 97 98 99 "
     ]
    }
   ],
   "source": [
    "for i in range(100):\n",
    "    print(i, end=\" \")"
   ]
  },
  {
   "cell_type": "markdown",
   "id": "abb8243a",
   "metadata": {},
   "source": [
    "### Nested Loops###"
   ]
  },
  {
   "cell_type": "code",
   "execution_count": 21,
   "id": "cf31beea",
   "metadata": {},
   "outputs": [
    {
     "name": "stdout",
     "output_type": "stream",
     "text": [
      "data =  0 0\n",
      "data =  0 1\n",
      "data =  0 2\n",
      "data =  0 3\n",
      "data =  0 4\n",
      "data =  0 5\n",
      "data =  0 6\n",
      "data =  1 0\n",
      "data =  1 1\n",
      "data =  1 2\n",
      "data =  1 3\n",
      "data =  1 4\n",
      "data =  1 5\n",
      "data =  1 6\n",
      "data =  2 0\n",
      "data =  2 1\n",
      "data =  2 2\n",
      "data =  2 3\n",
      "data =  2 4\n",
      "data =  2 5\n",
      "data =  2 6\n"
     ]
    }
   ],
   "source": [
    "for i in range(4):\n",
    "    for j in range(3):\n",
    "        print(\"data = \",i,j)"
   ]
  },
  {
   "cell_type": "code",
   "execution_count": 30,
   "id": "ed390352",
   "metadata": {},
   "outputs": [
    {
     "name": "stdout",
     "output_type": "stream",
     "text": [
      "* * * * \n",
      "* * * * \n",
      "* * * * \n",
      "* * * * \n"
     ]
    }
   ],
   "source": [
    "# print ****\n",
    "\n",
    "for i in range(4):\n",
    "    for j in range(4):\n",
    "        print(\"*\",end =\" \")\n",
    "    print()"
   ]
  },
  {
   "cell_type": "markdown",
   "id": "34c31a42",
   "metadata": {},
   "source": [
    "# Break Statmnet"
   ]
  },
  {
   "cell_type": "code",
   "execution_count": 32,
   "id": "41820373",
   "metadata": {},
   "outputs": [
    {
     "name": "stdout",
     "output_type": "stream",
     "text": [
      "1 2 3 4 5 6 7 8 9 10 11 12 13 14 15 16 17 18 19 20 21 22 23 24 25 26 27 28 29 30 31 32 33 34 35 36 37 38 39 40 41 42 43 44 45 46 47 48 49 "
     ]
    }
   ],
   "source": [
    "for i in range(1,100,1):\n",
    "    if i ==50:\n",
    "        break\n",
    "    print(i,end=\" \") # (end=\" \") use to output in same line"
   ]
  },
  {
   "cell_type": "markdown",
   "id": "4be60787",
   "metadata": {},
   "source": [
    "# Continune Statmnet #"
   ]
  },
  {
   "cell_type": "code",
   "execution_count": 36,
   "id": "1e60e705",
   "metadata": {},
   "outputs": [
    {
     "name": "stdout",
     "output_type": "stream",
     "text": [
      "1 4 5 6 7 8 9 10 11 12 13 14 15 16 17 18 19 20 21 22 23 24 25 26 27 28 29 30 31 32 33 34 35 36 37 38 39 40 41 42 43 44 45 46 47 48 49 50 51 52 53 54 55 56 57 58 59 60 61 62 63 64 65 66 67 68 69 70 71 72 73 74 75 76 77 78 79 80 81 82 83 84 85 86 87 88 89 90 91 92 93 94 95 96 97 98 99 "
     ]
    }
   ],
   "source": [
    "for i in range(1,100,1):\n",
    "    if i ==50:\n",
    "        continue\n",
    "    print(i,end=\" \")"
   ]
  },
  {
   "cell_type": "markdown",
   "id": "9c011993",
   "metadata": {},
   "source": [
    "# Pass Statment"
   ]
  },
  {
   "cell_type": "code",
   "execution_count": 37,
   "id": "6d4cab95",
   "metadata": {},
   "outputs": [
    {
     "name": "stdout",
     "output_type": "stream",
     "text": [
      "1 2 3 4 5 6 7 8 9 10 11 12 13 14 15 16 17 18 19 20 21 22 23 24 25 26 27 28 29 30 31 32 33 34 35 36 37 38 39 40 41 42 43 44 45 46 47 48 49 50 51 52 53 54 55 56 57 58 59 60 61 62 63 64 65 66 67 68 69 70 71 72 73 74 75 76 77 78 79 80 81 82 83 84 85 86 87 88 89 90 91 92 93 94 95 96 97 98 99 "
     ]
    }
   ],
   "source": [
    "for i in range(1,100,1):\n",
    "    if i ==50:\n",
    "        pass\n",
    "    print(i,end=\" \")"
   ]
  },
  {
   "cell_type": "markdown",
   "id": "66b2834b",
   "metadata": {},
   "source": [
    "# loop witn else block "
   ]
  },
  {
   "cell_type": "code",
   "execution_count": 38,
   "id": "f32ff386",
   "metadata": {},
   "outputs": [
    {
     "name": "stdout",
     "output_type": "stream",
     "text": [
      "0\n",
      "1\n",
      "2\n",
      "3\n",
      "4\n",
      "i Am in else\n"
     ]
    }
   ],
   "source": [
    "for i in range (5):\n",
    "    print(i)\n",
    "else:\n",
    "    print(\"i Am in else\")"
   ]
  },
  {
   "cell_type": "code",
   "execution_count": null,
   "id": "30e805af",
   "metadata": {},
   "outputs": [],
   "source": []
  }
 ],
 "metadata": {
  "kernelspec": {
   "display_name": "Python 3 (ipykernel)",
   "language": "python",
   "name": "python3"
  },
  "language_info": {
   "codemirror_mode": {
    "name": "ipython",
    "version": 3
   },
   "file_extension": ".py",
   "mimetype": "text/x-python",
   "name": "python",
   "nbconvert_exporter": "python",
   "pygments_lexer": "ipython3",
   "version": "3.9.7"
  }
 },
 "nbformat": 4,
 "nbformat_minor": 5
}
